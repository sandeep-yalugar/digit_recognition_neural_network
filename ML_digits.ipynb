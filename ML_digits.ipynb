{
  "cells": [
    {
      "cell_type": "code",
      "execution_count": null,
      "id": "2a8a1e06-d13d-4e9d-a931-bb6ad01344b0",
      "metadata": {
        "id": "2a8a1e06-d13d-4e9d-a931-bb6ad01344b0"
      },
      "outputs": [],
      "source": [
        "import torch\n",
        "import torch.nn as nn\n",
        "from torch.optim import SGD\n",
        "import torch.nn.functional as F\n",
        "from torch.utils.data import Dataset, DataLoader\n",
        "import torchvision\n",
        "import numpy as np\n",
        "import matplotlib.pyplot as plt"
      ]
    },
    {
      "cell_type": "markdown",
      "id": "cc6b9b99-bc41-4222-8d61-5eb8d238dc0e",
      "metadata": {
        "id": "cc6b9b99-bc41-4222-8d61-5eb8d238dc0e"
      },
      "source": [
        "A general \"sequential\" neural network can be expressed as\n",
        "\n",
        "$$f(x) = \\underset{i=1}{\\overset{n}{\\Huge{\\kappa}}} R_i(A_ix+b_i)$$\n",
        "\n",
        "where $$\\underset{i=1}{\\overset{n}{\\Huge{\\kappa}}}f_i(x) = f_n \\circ f_{n-1} ... \\circ f_1(x)$$ and the $A_i$ are matrices and the $b_i$ are bias vectors. Typically the $R_i$ are the same for all the layers (typically ReLU) **except** for the last layer, where $R_i$ is just is just the identity function\n",
        "\n",
        "* **Note**: In clever architectures, like convolutional neural networks, the $A_i$'s become sparse matrices (most of there parameters are fixed to equal zero)."
      ]
    },
    {
      "cell_type": "markdown",
      "id": "629b2515-d284-4c9b-a43e-2786cd6b22cf",
      "metadata": {
        "id": "629b2515-d284-4c9b-a43e-2786cd6b22cf"
      },
      "source": [
        "Download from www.di.ens.fr/~lelarge/MNIST.tar.gz"
      ]
    },
    {
      "cell_type": "code",
      "execution_count": null,
      "id": "bfd94ce7-287f-40bf-b99f-72f72661b9c8",
      "metadata": {
        "id": "bfd94ce7-287f-40bf-b99f-72f72661b9c8"
      },
      "outputs": [],
      "source": [
        "x,y= torch.load('/content/training.pt')"
      ]
    },
    {
      "cell_type": "code",
      "execution_count": null,
      "id": "26654796-6b6a-44fe-9ab5-f5eb06acb827",
      "metadata": {
        "colab": {
          "base_uri": "https://localhost:8080/"
        },
        "id": "26654796-6b6a-44fe-9ab5-f5eb06acb827",
        "outputId": "d020dcd5-10d9-484c-9f65-9582a722ae84"
      },
      "outputs": [
        {
          "output_type": "execute_result",
          "data": {
            "text/plain": [
              "tensor([[5],\n",
              "        [0],\n",
              "        [4],\n",
              "        [1],\n",
              "        [9],\n",
              "        [2],\n",
              "        [1],\n",
              "        [3],\n",
              "        [1],\n",
              "        [4]])"
            ]
          },
          "metadata": {},
          "execution_count": 33
        }
      ],
      "source": [
        "y = y[:10]\n",
        "y = y.reshape((-1,1))\n",
        "y"
      ]
    },
    {
      "cell_type": "code",
      "execution_count": null,
      "id": "613d4c68-cd7b-4507-99c7-a3e3b9eaf1ef",
      "metadata": {
        "colab": {
          "base_uri": "https://localhost:8080/",
          "height": 452
        },
        "id": "613d4c68-cd7b-4507-99c7-a3e3b9eaf1ef",
        "outputId": "c79bb3c6-1f80-41cc-957c-a293d05cfd72"
      },
      "outputs": [
        {
          "output_type": "display_data",
          "data": {
            "text/plain": [
              "<Figure size 640x480 with 2 Axes>"
            ],
            "image/png": "[encoded data removed]"
          },
          "metadata": {}
        }
      ],
      "source": [
        "plt.imshow(x[2].numpy())\n",
        "plt.title(f'Number is {y[2].numpy()}')\n",
        "plt.colorbar()\n",
        "plt.show()"
      ]
    },
    {
      "cell_type": "markdown",
      "id": "88483a27-ea2d-46a5-a4df-ef57c483ff0a",
      "metadata": {
        "id": "88483a27-ea2d-46a5-a4df-ef57c483ff0a"
      },
      "source": [
        "# The One Hot Encoder"
      ]
    },
    {
      "cell_type": "code",
      "execution_count": null,
      "id": "bef96aa9-f924-431d-b053-cca1bfdc06b0",
      "metadata": {
        "id": "bef96aa9-f924-431d-b053-cca1bfdc06b0"
      },
      "outputs": [],
      "source": [
        "y_original = torch.tensor([2, 4, 3, 0, 1]).view((-1,1))\n",
        "y_new = F.one_hot(y_original)"
      ]
    },
    {
      "cell_type": "code",
      "execution_count": null,
      "id": "f6e71a85-a611-4581-847a-b3d074da6ff6",
      "metadata": {
        "id": "f6e71a85-a611-4581-847a-b3d074da6ff6",
        "outputId": "868db339-ee64-40a5-fbfe-2417843a09a3",
        "colab": {
          "base_uri": "https://localhost:8080/"
        }
      },
      "outputs": [
        {
          "output_type": "execute_result",
          "data": {
            "text/plain": [
              "tensor([[2],\n",
              "        [4],\n",
              "        [3],\n",
              "        [0],\n",
              "        [1]])"
            ]
          },
          "metadata": {},
          "execution_count": 72
        }
      ],
      "source": [
        "y_original"
      ]
    },
    {
      "cell_type": "code",
      "execution_count": null,
      "id": "d378a006-76ec-4cdb-915b-c8878cb2523d",
      "metadata": {
        "id": "d378a006-76ec-4cdb-915b-c8878cb2523d",
        "outputId": "4d49839e-319f-42d4-a6e7-04239b0074df",
        "colab": {
          "base_uri": "https://localhost:8080/"
        }
      },
      "outputs": [
        {
          "output_type": "execute_result",
          "data": {
            "text/plain": [
              "tensor([[[0, 0, 1, 0, 0]],\n",
              "\n",
              "        [[0, 0, 0, 0, 1]],\n",
              "\n",
              "        [[0, 0, 0, 1, 0]],\n",
              "\n",
              "        [[1, 0, 0, 0, 0]],\n",
              "\n",
              "        [[0, 1, 0, 0, 0]]])"
            ]
          },
          "metadata": {},
          "execution_count": 73
        }
      ],
      "source": [
        "y_new"
      ]
    },
    {
      "cell_type": "markdown",
      "id": "ae6bb5dc-2b3a-4fec-bd54-98b53955938f",
      "metadata": {
        "id": "ae6bb5dc-2b3a-4fec-bd54-98b53955938f"
      },
      "source": [
        "Now lets do it on the dataset"
      ]
    },
    {
      "cell_type": "code",
      "execution_count": null,
      "id": "054a154f-54df-4d2e-a648-6848200c16f0",
      "metadata": {
        "id": "054a154f-54df-4d2e-a648-6848200c16f0",
        "outputId": "d69ef90b-334d-4c4e-d357-dccffd9658a5"
      },
      "outputs": [
        {
          "data": {
            "text/plain": [
              "tensor([5, 0, 4,  ..., 5, 6, 8])"
            ]
          },
          "execution_count": 32,
          "metadata": {},
          "output_type": "execute_result"
        }
      ],
      "source": [
        "y"
      ]
    },
    {
      "cell_type": "code",
      "execution_count": null,
      "id": "9b48458f-3e9c-43ac-958d-901e6e937061",
      "metadata": {
        "id": "9b48458f-3e9c-43ac-958d-901e6e937061",
        "outputId": "85dc7199-8fee-4b93-9811-784157db161e"
      },
      "outputs": [
        {
          "data": {
            "text/plain": [
              "tensor([[0, 0, 0,  ..., 0, 0, 0],\n",
              "        [1, 0, 0,  ..., 0, 0, 0],\n",
              "        [0, 0, 0,  ..., 0, 0, 0],\n",
              "        ...,\n",
              "        [0, 0, 0,  ..., 0, 0, 0],\n",
              "        [0, 0, 0,  ..., 0, 0, 0],\n",
              "        [0, 0, 0,  ..., 0, 1, 0]])"
            ]
          },
          "execution_count": 31,
          "metadata": {},
          "output_type": "execute_result"
        }
      ],
      "source": [
        "y_new"
      ]
    },
    {
      "cell_type": "code",
      "execution_count": null,
      "id": "bf8ba55e-e33c-46cc-96de-c534c6027750",
      "metadata": {
        "id": "bf8ba55e-e33c-46cc-96de-c534c6027750",
        "outputId": "55fb790b-758e-450c-bfca-1cd41b853f4c"
      },
      "outputs": [
        {
          "data": {
            "text/plain": [
              "torch.Size([60000, 10])"
            ]
          },
          "execution_count": 30,
          "metadata": {},
          "output_type": "execute_result"
        }
      ],
      "source": [
        "y_new = F.one_hot(y, num_classes=10)\n",
        "y_new.shape"
      ]
    },
    {
      "cell_type": "markdown",
      "id": "edaecb5b-383f-409b-a57b-7b28e71705e5",
      "metadata": {
        "id": "edaecb5b-383f-409b-a57b-7b28e71705e5"
      },
      "source": [
        "# Issues with the Images"
      ]
    },
    {
      "cell_type": "code",
      "execution_count": null,
      "id": "d06451a9-118a-4f8d-83f8-a7953c14287e",
      "metadata": {
        "id": "d06451a9-118a-4f8d-83f8-a7953c14287e",
        "outputId": "c9581e98-e211-4e6b-8d83-f3e000ca5bf7"
      },
      "outputs": [
        {
          "data": {
            "text/plain": [
              "torch.Size([60000, 28, 28])"
            ]
          },
          "execution_count": 34,
          "metadata": {},
          "output_type": "execute_result"
        }
      ],
      "source": [
        "x.shape"
      ]
    },
    {
      "cell_type": "markdown",
      "id": "1adf6a8d-d81a-4aa7-905f-5d1159b4af0f",
      "metadata": {
        "id": "1adf6a8d-d81a-4aa7-905f-5d1159b4af0f"
      },
      "source": [
        "The images are currently 28x28, but we want to turn the images (the `xs`) into a vector (which will be length $28^2 = 784$). We can do this using the `.view` property of a tensor."
      ]
    },
    {
      "cell_type": "code",
      "execution_count": null,
      "id": "80c968fa-c034-4db9-b767-fd6466470daa",
      "metadata": {
        "id": "80c968fa-c034-4db9-b767-fd6466470daa",
        "outputId": "a068ce30-4dd4-4433-d472-e8e734d7a161"
      },
      "outputs": [
        {
          "data": {
            "text/plain": [
              "torch.Size([60000, 784])"
            ]
          },
          "execution_count": 35,
          "metadata": {},
          "output_type": "execute_result"
        }
      ],
      "source": [
        "x.view(-1,28**2).shape"
      ]
    },
    {
      "cell_type": "markdown",
      "id": "3d90f1f7-ce0e-4b99-9bfd-29ab5661939e",
      "metadata": {
        "id": "3d90f1f7-ce0e-4b99-9bfd-29ab5661939e"
      },
      "source": [
        "# PyTorch Dataset Object"
      ]
    },
    {
      "cell_type": "code",
      "execution_count": null,
      "id": "c19ee408-e640-4c15-b827-ca37c7416914",
      "metadata": {
        "id": "c19ee408-e640-4c15-b827-ca37c7416914"
      },
      "outputs": [],
      "source": [
        "class CTDataset(Dataset):\n",
        "    def __init__(self, filepath):\n",
        "        self.x, self.y = torch.load(filepath)\n",
        "        self.x = self.x / 255.\n",
        "        self.y = F.one_hot(self.y,num_classes=10)\n",
        "        self.y = self.y.to(torch.float32)\n",
        "    def __len__(self):\n",
        "        return self.x.shape[0]\n",
        "    def __getitem__(self, ix):\n",
        "        return self.x[ix], self.y[ix]"
      ]
    },
    {
      "cell_type": "code",
      "source": [
        "y.shape"
      ],
      "metadata": {
        "colab": {
          "base_uri": "https://localhost:8080/"
        },
        "id": "-KYcYaQiJfy8",
        "outputId": "452fcd62-e53f-4263-902a-9644e0f40bf7"
      },
      "id": "-KYcYaQiJfy8",
      "execution_count": null,
      "outputs": [
        {
          "output_type": "execute_result",
          "data": {
            "text/plain": [
              "torch.Size([10000])"
            ]
          },
          "metadata": {},
          "execution_count": 75
        }
      ]
    },
    {
      "cell_type": "code",
      "execution_count": null,
      "id": "258bf813-c9fd-4ed5-9854-048bbe7ff36e",
      "metadata": {
        "id": "258bf813-c9fd-4ed5-9854-048bbe7ff36e"
      },
      "outputs": [],
      "source": [
        "train_ds = CTDataset('/content/training.pt')\n"
      ]
    },
    {
      "cell_type": "markdown",
      "id": "f3e3d8ee-40d6-4fb3-b825-bd7e84488310",
      "metadata": {
        "id": "f3e3d8ee-40d6-4fb3-b825-bd7e84488310"
      },
      "source": [
        "Datasets of a `__len__` and `__getitem__` method, so they can be used with python functionality"
      ]
    },
    {
      "cell_type": "code",
      "execution_count": null,
      "id": "00e38533-6d54-4600-ad86-933068cb7b8f",
      "metadata": {
        "colab": {
          "base_uri": "https://localhost:8080/"
        },
        "id": "00e38533-6d54-4600-ad86-933068cb7b8f",
        "outputId": "f21cf64c-6efd-4608-a1af-9e6eb6cca335"
      },
      "outputs": [
        {
          "output_type": "execute_result",
          "data": {
            "text/plain": [
              "60000"
            ]
          },
          "metadata": {},
          "execution_count": 37
        }
      ],
      "source": [
        "len(train_ds)"
      ]
    },
    {
      "cell_type": "markdown",
      "id": "a647c3c3-7038-4e8e-b47d-86ae14dd9c8b",
      "metadata": {
        "id": "a647c3c3-7038-4e8e-b47d-86ae14dd9c8b"
      },
      "source": [
        "We can also use slicing:"
      ]
    },
    {
      "cell_type": "code",
      "execution_count": null,
      "id": "38ea3cbb-8c36-46bb-a728-b2decc46664d",
      "metadata": {
        "id": "38ea3cbb-8c36-46bb-a728-b2decc46664d"
      },
      "outputs": [],
      "source": [
        "xs, ys = train_ds[0:4]"
      ]
    },
    {
      "cell_type": "code",
      "execution_count": null,
      "id": "53e4b3f4-d365-4083-92d7-395bc002e9e8",
      "metadata": {
        "colab": {
          "base_uri": "https://localhost:8080/"
        },
        "id": "53e4b3f4-d365-4083-92d7-395bc002e9e8",
        "outputId": "3158a3fe-cdde-4ede-913c-e45f6b204874"
      },
      "outputs": [
        {
          "output_type": "execute_result",
          "data": {
            "text/plain": [
              "torch.Size([4, 1])"
            ]
          },
          "metadata": {},
          "execution_count": 30
        }
      ],
      "source": [
        "ys.shape"
      ]
    },
    {
      "cell_type": "markdown",
      "id": "b40c3e08-5b2a-48ee-9d94-5e20d2e7a7c1",
      "metadata": {
        "id": "b40c3e08-5b2a-48ee-9d94-5e20d2e7a7c1"
      },
      "source": [
        "# PyTorch DataLoader Object"
      ]
    },
    {
      "cell_type": "markdown",
      "id": "068c3082-2e68-4f58-a26e-8eee48305ca7",
      "metadata": {
        "id": "068c3082-2e68-4f58-a26e-8eee48305ca7"
      },
      "source": [
        "We can then put the `Dataset` objects inside a `DataLoader` class. This is useful because we can specify a `batch_size`. Each iteration through the dataloader will yield a tensor where the first dimension is equal to the `batch_size`."
      ]
    },
    {
      "cell_type": "code",
      "execution_count": null,
      "id": "944f65ed-33f8-408a-93ef-5b282153062a",
      "metadata": {
        "id": "944f65ed-33f8-408a-93ef-5b282153062a",
        "colab": {
          "base_uri": "https://localhost:8080/"
        },
        "outputId": "30c19c34-d4a8-4c6a-be8c-e346e2a09517"
      },
      "outputs": [
        {
          "output_type": "stream",
          "name": "stdout",
          "text": [
            "12000\n"
          ]
        }
      ],
      "source": [
        "train_dl = DataLoader(train_ds, batch_size=5)\n",
        "print(len(train_dl))"
      ]
    },
    {
      "cell_type": "code",
      "execution_count": null,
      "id": "497df1d7-ff2d-4650-b2bc-e8bc77d06b81",
      "metadata": {
        "colab": {
          "base_uri": "https://localhost:8080/"
        },
        "id": "497df1d7-ff2d-4650-b2bc-e8bc77d06b81",
        "outputId": "95cb4486-55d3-4aad-c251-7d91f4717b81"
      },
      "outputs": [
        {
          "output_type": "stream",
          "name": "stdout",
          "text": [
            "torch.Size([5, 28, 28])\n",
            "torch.Size([5, 1])\n"
          ]
        }
      ],
      "source": [
        "for x, y in train_dl:\n",
        "    print(x.shape)\n",
        "    print(y.shape)\n",
        "    break"
      ]
    },
    {
      "cell_type": "markdown",
      "id": "fd016b02-d744-4754-836d-5b23802e6974",
      "metadata": {
        "id": "fd016b02-d744-4754-836d-5b23802e6974"
      },
      "source": [
        "Since the `batch_size` here is 5, and there are 60000 images, the length of the `DataLoader` object should be 12000."
      ]
    },
    {
      "cell_type": "code",
      "execution_count": null,
      "id": "ca520dd3-60a1-47a9-8367-fbcb640338b5",
      "metadata": {
        "colab": {
          "base_uri": "https://localhost:8080/"
        },
        "id": "ca520dd3-60a1-47a9-8367-fbcb640338b5",
        "outputId": "26174596-bae8-40b2-9c85-e7c75ce2cdcb"
      },
      "outputs": [
        {
          "output_type": "stream",
          "name": "stdout",
          "text": [
            "torch.Size([28, 28])\n",
            "tensor([0., 0., 0., 0., 0., 1., 0., 0., 0., 0.])\n"
          ]
        }
      ],
      "source": [
        "len(train_dl)\n",
        "x,y = train_ds[:10]\n",
        "print(x[0].shape)\n",
        "print(y[0])"
      ]
    },
    {
      "cell_type": "markdown",
      "id": "394b5ec1-9cb4-48c9-a7a3-bd7eeec8522d",
      "metadata": {
        "id": "394b5ec1-9cb4-48c9-a7a3-bd7eeec8522d"
      },
      "source": [
        "# Cross Entropy Loss"
      ]
    },
    {
      "cell_type": "markdown",
      "id": "8a8a1aa4-0b73-4a3d-a3e7-b2b7a7fb3ecc",
      "metadata": {
        "id": "8a8a1aa4-0b73-4a3d-a3e7-b2b7a7fb3ecc"
      },
      "source": [
        "Watch: https://www.youtube.com/watch?v=wq1K8F-S0AI"
      ]
    },
    {
      "cell_type": "code",
      "execution_count": null,
      "id": "f0927548-c6ff-40ce-ae62-90dfe6fc5a6b",
      "metadata": {
        "id": "f0927548-c6ff-40ce-ae62-90dfe6fc5a6b"
      },
      "outputs": [],
      "source": [
        "L = nn.MSELoss()"
      ]
    },
    {
      "cell_type": "markdown",
      "id": "06fd6fe4-8ade-4abb-b891-c489098dd169",
      "metadata": {
        "id": "06fd6fe4-8ade-4abb-b891-c489098dd169"
      },
      "source": [
        "# The Network"
      ]
    },
    {
      "cell_type": "code",
      "execution_count": null,
      "id": "adb0a442-3930-44ad-8ced-cfec73e9515e",
      "metadata": {
        "id": "adb0a442-3930-44ad-8ced-cfec73e9515e"
      },
      "outputs": [],
      "source": [
        "class MyNeuralNet(nn.Module):\n",
        "    def __init__(self):\n",
        "        super().__init__()\n",
        "        self.Matrix1 = nn.Linear(28**2,100)\n",
        "        self.Matrix2 = nn.Linear(100,50)\n",
        "        self.Matrix3 = nn.Linear(50,10)\n",
        "        self.R = nn.ReLU()\n",
        "    def forward(self,x):\n",
        "        x = x.view(-1,28**2)\n",
        "        x = self.R(self.Matrix1(x))\n",
        "        x = self.R(self.Matrix2(x))\n",
        "        x = self.Matrix3(x)\n",
        "        return x.squeeze()"
      ]
    },
    {
      "cell_type": "code",
      "execution_count": null,
      "id": "aaa8781b-8c61-4e86-95d9-d2621773636b",
      "metadata": {
        "id": "aaa8781b-8c61-4e86-95d9-d2621773636b"
      },
      "outputs": [],
      "source": [
        "f = MyNeuralNet()\n"
      ]
    },
    {
      "cell_type": "markdown",
      "id": "31e95619-df88-46e4-8313-42b255267881",
      "metadata": {
        "id": "31e95619-df88-46e4-8313-42b255267881"
      },
      "source": [
        "Look at network predictions (before optimization):"
      ]
    },
    {
      "cell_type": "code",
      "execution_count": null,
      "id": "4cbe883c-4c9e-4ff7-a438-226ae24e7aae",
      "metadata": {
        "colab": {
          "base_uri": "https://localhost:8080/"
        },
        "id": "4cbe883c-4c9e-4ff7-a438-226ae24e7aae",
        "outputId": "4a67a789-3232-41f0-aa78-cac985830088"
      },
      "outputs": [
        {
          "output_type": "execute_result",
          "data": {
            "text/plain": [
              "torch.Size([4, 28, 28])"
            ]
          },
          "metadata": {},
          "execution_count": 34
        }
      ],
      "source": [
        "xs.shape"
      ]
    },
    {
      "cell_type": "code",
      "execution_count": null,
      "id": "14a02ea3-2ccf-432a-9fca-a0a2f1a5e159",
      "metadata": {
        "colab": {
          "base_uri": "https://localhost:8080/"
        },
        "id": "14a02ea3-2ccf-432a-9fca-a0a2f1a5e159",
        "outputId": "65d6039e-7a0e-4376-e2cf-81b3a205bf3c"
      },
      "outputs": [
        {
          "output_type": "execute_result",
          "data": {
            "text/plain": [
              "tensor([[-0.0304, -0.0604,  0.1249, -0.0723,  0.1393,  0.0109, -0.1687,  0.1280,\n",
              "          0.0197, -0.1081],\n",
              "        [-0.0233, -0.0476,  0.1448, -0.0931,  0.1315, -0.0055, -0.1567,  0.1164,\n",
              "          0.0444, -0.1039],\n",
              "        [-0.0448, -0.0625,  0.0839, -0.0680,  0.0799, -0.0115, -0.1249,  0.1175,\n",
              "          0.0194, -0.1151],\n",
              "        [-0.0843, -0.0833,  0.1176, -0.0772,  0.0681,  0.0048, -0.1693,  0.1070,\n",
              "          0.0148, -0.1294]], grad_fn=<AddmmBackward0>)"
            ]
          },
          "metadata": {},
          "execution_count": 84
        }
      ],
      "source": [
        "f(xs)"
      ]
    },
    {
      "cell_type": "markdown",
      "id": "382bab41-bf2e-44a8-8f77-1fdaf3a48331",
      "metadata": {
        "id": "382bab41-bf2e-44a8-8f77-1fdaf3a48331"
      },
      "source": [
        "This is what they should eventually be equal to:"
      ]
    },
    {
      "cell_type": "code",
      "execution_count": null,
      "id": "57f0b157-549a-40dc-b36b-6acd9645c054",
      "metadata": {
        "colab": {
          "base_uri": "https://localhost:8080/"
        },
        "id": "57f0b157-549a-40dc-b36b-6acd9645c054",
        "outputId": "277cdc6a-1cec-4e59-9f63-0259bb6f6c9c"
      },
      "outputs": [
        {
          "output_type": "execute_result",
          "data": {
            "text/plain": [
              "tensor([[5.],\n",
              "        [0.],\n",
              "        [4.],\n",
              "        [1.]])"
            ]
          },
          "metadata": {},
          "execution_count": 55
        }
      ],
      "source": [
        "ys"
      ]
    },
    {
      "cell_type": "markdown",
      "id": "547b43f7-62ec-494f-b347-d5bece000333",
      "metadata": {
        "id": "547b43f7-62ec-494f-b347-d5bece000333"
      },
      "source": [
        "We can compute the loss between such predictions."
      ]
    },
    {
      "cell_type": "code",
      "execution_count": null,
      "id": "027cdf51-05ce-40f4-82d9-e0580ae0d012",
      "metadata": {
        "colab": {
          "base_uri": "https://localhost:8080/"
        },
        "id": "027cdf51-05ce-40f4-82d9-e0580ae0d012",
        "outputId": "e72643ea-9b8e-465a-c0e3-9d1772ab0b7e"
      },
      "outputs": [
        {
          "output_type": "execute_result",
          "data": {
            "text/plain": [
              "tensor(-0., grad_fn=<DivBackward1>)"
            ]
          },
          "metadata": {},
          "execution_count": 56
        }
      ],
      "source": [
        "L(f(xs), ys)"
      ]
    },
    {
      "cell_type": "markdown",
      "id": "b4aa3b90-bd0f-41db-b78a-474448d183bb",
      "metadata": {
        "id": "b4aa3b90-bd0f-41db-b78a-474448d183bb"
      },
      "source": [
        "We want these predictions `f(xs)` to match the `ys` for all images. For these to match, the loss function `L(f(xs), ys)` should be as small as possible. As such, we adjust the weights of `f` such that `L` becomes as small as possible. This is done below:"
      ]
    },
    {
      "cell_type": "markdown",
      "id": "c47ba1c8-b5b8-4260-8c77-d7a631a8ac3b",
      "metadata": {
        "id": "c47ba1c8-b5b8-4260-8c77-d7a631a8ac3b"
      },
      "source": [
        "# Training"
      ]
    },
    {
      "cell_type": "markdown",
      "id": "d047828e-c425-4ace-93ce-92ecd978dd20",
      "metadata": {
        "id": "d047828e-c425-4ace-93ce-92ecd978dd20"
      },
      "source": [
        "This training loop is copied from the previous tutorial, with a few modifications"
      ]
    },
    {
      "cell_type": "code",
      "execution_count": null,
      "id": "d7ade31e-fc82-43b6-8b6a-19672a1ae868",
      "metadata": {
        "id": "d7ade31e-fc82-43b6-8b6a-19672a1ae868"
      },
      "outputs": [],
      "source": [
        "def train_model(dl, f, n_epochs=20):\n",
        "    # Optimization\n",
        "    opt = SGD(f.parameters(), lr=0.01)\n",
        "    L = nn.CrossEntropyLoss()\n",
        "\n",
        "    # Train model\n",
        "    losses = []\n",
        "    epochs = []\n",
        "    for epoch in range(n_epochs):\n",
        "        print(f'Epoch {epoch}')\n",
        "        N = len(dl)\n",
        "        for i, (x, y) in enumerate(dl):\n",
        "            # Update the weights of the network\n",
        "            opt.zero_grad()\n",
        "            loss_value = L(f(x), y)\n",
        "            loss_value.backward()\n",
        "            opt.step()\n",
        "            # Store training data\n",
        "            epochs.append(epoch+i/N)\n",
        "            losses.append(loss_value.item())\n",
        "    return np.array(epochs), np.array(losses)"
      ]
    },
    {
      "cell_type": "markdown",
      "id": "bb763d4f-7b45-4bc6-984f-1ad4cc41caaa",
      "metadata": {
        "id": "bb763d4f-7b45-4bc6-984f-1ad4cc41caaa"
      },
      "source": [
        "Lets call this function to train the model:"
      ]
    },
    {
      "cell_type": "code",
      "execution_count": null,
      "id": "24f7826c-ac83-4133-8208-af6130c940e7",
      "metadata": {
        "id": "24f7826c-ac83-4133-8208-af6130c940e7",
        "colab": {
          "base_uri": "https://localhost:8080/"
        },
        "outputId": "ecd540c9-266a-4cfc-f4da-321e692b7398"
      },
      "outputs": [
        {
          "output_type": "stream",
          "name": "stdout",
          "text": [
            "Epoch 0\n",
            "Epoch 1\n",
            "Epoch 2\n",
            "Epoch 3\n",
            "Epoch 4\n",
            "Epoch 5\n",
            "Epoch 6\n",
            "Epoch 7\n",
            "Epoch 8\n",
            "Epoch 9\n",
            "Epoch 10\n",
            "Epoch 11\n",
            "Epoch 12\n",
            "Epoch 13\n",
            "Epoch 14\n",
            "Epoch 15\n",
            "Epoch 16\n",
            "Epoch 17\n",
            "Epoch 18\n",
            "Epoch 19\n"
          ]
        }
      ],
      "source": [
        "epoch_data, loss_data = train_model(train_dl, f,20)"
      ]
    },
    {
      "cell_type": "code",
      "source": [
        "tx,ty = torch.load('/content/test.pt')\n",
        "print(tx.shape)\n",
        "print(ty.shape)\n"
      ],
      "metadata": {
        "colab": {
          "base_uri": "https://localhost:8080/"
        },
        "id": "BVyCwCm4Znoa",
        "outputId": "4375e73f-00d4-4226-d6ee-a1e81cefefd4"
      },
      "id": "BVyCwCm4Znoa",
      "execution_count": null,
      "outputs": [
        {
          "output_type": "stream",
          "name": "stdout",
          "text": [
            "torch.Size([10000, 28, 28])\n",
            "torch.Size([10000])\n"
          ]
        }
      ]
    },
    {
      "cell_type": "code",
      "source": [
        "\n",
        "wr =0\n",
        "y = y.to(torch.float32)\n",
        "x = x.to(torch.float32)\n",
        "for ind in range(60000):\n",
        "  y_pred = int(round(f(x[ind]).item()))\n",
        "  y_act = int(y[ind].item())\n",
        "  if y_pred!=y_act:\n",
        "    wr = wr + 1\n",
        "wr"
      ],
      "metadata": {
        "colab": {
          "base_uri": "https://localhost:8080/"
        },
        "id": "kB6ag3M7aKVa",
        "outputId": "da8539ab-0428-4420-88e1-54f866082132"
      },
      "id": "kB6ag3M7aKVa",
      "execution_count": null,
      "outputs": [
        {
          "output_type": "execute_result",
          "data": {
            "text/plain": [
              "59506"
            ]
          },
          "metadata": {},
          "execution_count": 38
        }
      ]
    },
    {
      "cell_type": "code",
      "source": [],
      "metadata": {
        "id": "0lmgddTMHZDR"
      },
      "id": "0lmgddTMHZDR",
      "execution_count": null,
      "outputs": []
    },
    {
      "cell_type": "markdown",
      "id": "d6ea32c5-8e3d-4c3c-a3ff-fd3b51e10be2",
      "metadata": {
        "id": "d6ea32c5-8e3d-4c3c-a3ff-fd3b51e10be2"
      },
      "source": [
        "Lets plot the loss function `L(f(xs),ys)` for each batch of `xs, ys` (`batch_size` is 5) throughout the training procedure"
      ]
    },
    {
      "cell_type": "code",
      "execution_count": null,
      "id": "dd39a196-4b71-42a4-abfd-8c61564514c7",
      "metadata": {
        "id": "dd39a196-4b71-42a4-abfd-8c61564514c7",
        "outputId": "511fd467-bc09-4b2e-e57b-9377b5876703",
        "colab": {
          "base_uri": "https://localhost:8080/",
          "height": 489
        }
      },
      "outputs": [
        {
          "output_type": "execute_result",
          "data": {
            "text/plain": [
              "Text(0.5, 1.0, 'Cross Entropy (per batch)')"
            ]
          },
          "metadata": {},
          "execution_count": 39
        },
        {
          "output_type": "display_data",
          "data": {
            "text/plain": [
              "<Figure size 640x480 with 1 Axes>"
            ],
            "image/png": "[encoded data removed]"
          },
          "metadata": {}
        }
      ],
      "source": [
        "plt.plot(epoch_data, loss_data)\n",
        "plt.xlabel('Epoch Number')\n",
        "plt.ylabel('Cross Entropy')\n",
        "plt.title('Cross Entropy (per batch)')"
      ]
    },
    {
      "cell_type": "markdown",
      "id": "cd24ed9f-ba1d-4061-9605-67e25efef722",
      "metadata": {
        "id": "cd24ed9f-ba1d-4061-9605-67e25efef722"
      },
      "source": [
        "Each one of these data points corresponds to the loss evaluated on a batch of 5 images. An entire epoch, however, is 60000 images. We can average the loss across all the data per epoch to get the loss for all 60000 images.\n",
        "\n",
        "* Since there are 20 total epochs, we split the array above into 20 equal portions and take the mean of each portion"
      ]
    },
    {
      "cell_type": "code",
      "execution_count": null,
      "id": "4298b4c3-92fc-4428-9d15-fa99b4d241b5",
      "metadata": {
        "id": "4298b4c3-92fc-4428-9d15-fa99b4d241b5"
      },
      "outputs": [],
      "source": [
        "epoch_data_avgd = epoch_data.reshape(20,-1).mean(axis=1)\n",
        "loss_data_avgd = loss_data.reshape(20,-1).mean(axis=1)"
      ]
    },
    {
      "cell_type": "code",
      "execution_count": null,
      "id": "e031368f-65db-43c8-84b2-9e9a09055c74",
      "metadata": {
        "id": "e031368f-65db-43c8-84b2-9e9a09055c74",
        "outputId": "e0478f1f-fbc8-4e27-e0ff-43eec93b0bf9",
        "colab": {
          "base_uri": "https://localhost:8080/",
          "height": 489
        }
      },
      "outputs": [
        {
          "output_type": "execute_result",
          "data": {
            "text/plain": [
              "Text(0.5, 1.0, 'Cross Entropy (avgd per epoch)')"
            ]
          },
          "metadata": {},
          "execution_count": 96
        },
        {
          "output_type": "display_data",
          "data": {
            "text/plain": [
              "<Figure size 640x480 with 1 Axes>"
            ],
            "image/png": "[encoded data removed]"
          },
          "metadata": {}
        }
      ],
      "source": [
        "plt.plot(epoch_data_avgd, loss_data_avgd, 'o--')\n",
        "plt.xlabel('Epoch Number')\n",
        "plt.ylabel('Cross Entropy')\n",
        "plt.title('Cross Entropy (avgd per epoch)')"
      ]
    },
    {
      "cell_type": "markdown",
      "id": "0946e80e-3c31-454e-9ebd-ac83ede56951",
      "metadata": {
        "id": "0946e80e-3c31-454e-9ebd-ac83ede56951"
      },
      "source": [
        "Look at a sample image label $y$:"
      ]
    },
    {
      "cell_type": "code",
      "execution_count": null,
      "id": "f9289847-1fa9-4a0b-a891-c4903784bb96",
      "metadata": {
        "id": "f9289847-1fa9-4a0b-a891-c4903784bb96",
        "outputId": "1c37192d-61b8-4056-ea66-bc72b9ca7177",
        "colab": {
          "base_uri": "https://localhost:8080/"
        }
      },
      "outputs": [
        {
          "output_type": "execute_result",
          "data": {
            "text/plain": [
              "tensor([5.])"
            ]
          },
          "metadata": {},
          "execution_count": 35
        }
      ],
      "source": [
        "y_sample = train_ds[0][1]\n",
        "y_sample"
      ]
    },
    {
      "cell_type": "markdown",
      "id": "e637d4cc-618c-4eb3-8d46-edcb6a3b0c8f",
      "metadata": {
        "id": "e637d4cc-618c-4eb3-8d46-edcb6a3b0c8f"
      },
      "source": [
        "Look at sample prediction $\\hat{y}$"
      ]
    },
    {
      "cell_type": "code",
      "execution_count": null,
      "id": "fa28e2e1-01e7-407f-8c7f-ac8a8be6d3f7",
      "metadata": {
        "id": "fa28e2e1-01e7-407f-8c7f-ac8a8be6d3f7",
        "outputId": "df4006dc-4141-4aa0-994c-3a4a35788a1b",
        "colab": {
          "base_uri": "https://localhost:8080/"
        }
      },
      "outputs": [
        {
          "output_type": "execute_result",
          "data": {
            "text/plain": [
              "tensor([[4.5782]], grad_fn=<AddmmBackward0>)"
            ]
          },
          "metadata": {},
          "execution_count": 47
        }
      ],
      "source": [
        "x_sample = train_ds[0][0]\n",
        "yhat_sample = f(x_sample)\n",
        "yhat_sample"
      ]
    },
    {
      "cell_type": "markdown",
      "id": "78ae569d-528d-4fcb-9bb1-fc3469753a73",
      "metadata": {
        "id": "78ae569d-528d-4fcb-9bb1-fc3469753a73"
      },
      "source": [
        "To get what image this is, we should really be taking the index of the maximum value"
      ]
    },
    {
      "cell_type": "code",
      "execution_count": null,
      "id": "4e70ab6a-d2f2-47b9-9dd6-03a5bb30b545",
      "metadata": {
        "id": "4e70ab6a-d2f2-47b9-9dd6-03a5bb30b545",
        "outputId": "11031aa6-40cb-48a4-add0-4f7853f2c1f0"
      },
      "outputs": [
        {
          "data": {
            "text/plain": [
              "tensor(5)"
            ]
          },
          "execution_count": 78,
          "metadata": {},
          "output_type": "execute_result"
        }
      ],
      "source": [
        "torch.argmax(yhat_sample)"
      ]
    },
    {
      "cell_type": "code",
      "execution_count": null,
      "id": "8338c5e3-b205-495b-aa56-39ca06143b7e",
      "metadata": {
        "id": "8338c5e3-b205-495b-aa56-39ca06143b7e",
        "outputId": "8d7540de-c894-40d9-c48a-083a97443fda",
        "colab": {
          "base_uri": "https://localhost:8080/",
          "height": 176
        }
      },
      "outputs": [
        {
          "output_type": "error",
          "ename": "NameError",
          "evalue": "ignored",
          "traceback": [
            "\u001b[0;31m---------------------------------------------------------------------------\u001b[0m",
            "\u001b[0;31mNameError\u001b[0m                                 Traceback (most recent call last)",
            "\u001b[0;32m<ipython-input-17-0166ef0acb16>\u001b[0m in \u001b[0;36m<cell line: 1>\u001b[0;34m()\u001b[0m\n\u001b[0;32m----> 1\u001b[0;31m \u001b[0mplt\u001b[0m\u001b[0;34m.\u001b[0m\u001b[0mimshow\u001b[0m\u001b[0;34m(\u001b[0m\u001b[0mx_sample\u001b[0m\u001b[0;34m)\u001b[0m\u001b[0;34m\u001b[0m\u001b[0;34m\u001b[0m\u001b[0m\n\u001b[0m",
            "\u001b[0;31mNameError\u001b[0m: name 'x_sample' is not defined"
          ]
        }
      ],
      "source": [
        "plt.imshow(x_sample)"
      ]
    },
    {
      "cell_type": "markdown",
      "id": "35913b57-0671-43a4-81f9-f5049a9b36a3",
      "metadata": {
        "id": "35913b57-0671-43a4-81f9-f5049a9b36a3"
      },
      "source": [
        "It matches up! Lets look at a few more"
      ]
    },
    {
      "cell_type": "code",
      "execution_count": null,
      "id": "f35a5388-9b95-4def-a8e2-c66c4c0befe1",
      "metadata": {
        "id": "f35a5388-9b95-4def-a8e2-c66c4c0befe1"
      },
      "outputs": [],
      "source": [
        "x,y = torch.load('/content/training.pt')\n",
        "x = x/255\n",
        "y = y.to(torch.float32)\n",
        "yhats = f(x).argmax(axis=1)"
      ]
    },
    {
      "cell_type": "code",
      "execution_count": null,
      "id": "277a2229-26ae-4463-bf2c-5b26908c0f1e",
      "metadata": {
        "id": "277a2229-26ae-4463-bf2c-5b26908c0f1e",
        "outputId": "e621adbd-5930-4dc7-a64b-6b2185b210b3",
        "colab": {
          "base_uri": "https://localhost:8080/",
          "height": 1000
        }
      },
      "outputs": [
        {
          "output_type": "display_data",
          "data": {
            "text/plain": [
              "<Figure size 1000x1500 with 40 Axes>"
            ],
            "image/png": "[encoded data removed]"
          },
          "metadata": {}
        }
      ],
      "source": [
        "fig, ax = plt.subplots(10,4,figsize=(10,15))\n",
        "for i in range(20):\n",
        "    plt.subplot(10,4,i+1)\n",
        "    plt.imshow(xs[i])\n",
        "    plt.title(f'Predicted Digit: {round(yhats[i].item())}')\n",
        "fig.tight_layout()\n",
        "plt.show()"
      ]
    },
    {
      "cell_type": "code",
      "source": [
        "wr = 0\n",
        "print(y[0])\n",
        "for inde in range(60000):\n",
        "  y_act = y[inde]\n",
        "  y_pred = yhats[inde]\n",
        "  if y_act!=y_pred:\n",
        "    wr = wr + 1\n",
        "print(wr)\n",
        "print(wr/60000)\n",
        "print(100-(wr/60000)*100)\n"
      ],
      "metadata": {
        "colab": {
          "base_uri": "https://localhost:8080/"
        },
        "id": "os7guuIgEd2N",
        "outputId": "cde8998e-bb3e-4762-9f7b-d53f2ae4f676"
      },
      "id": "os7guuIgEd2N",
      "execution_count": null,
      "outputs": [
        {
          "output_type": "stream",
          "name": "stdout",
          "text": [
            "tensor(5.)\n",
            "11\n",
            "0.00018333333333333334\n",
            "99.98166666666667\n"
          ]
        }
      ]
    },
    {
      "cell_type": "code",
      "source": [
        "perce =100- (wr/2000)*100\n",
        "perce"
      ],
      "metadata": {
        "colab": {
          "base_uri": "https://localhost:8080/"
        },
        "id": "ETVQ7LenFUUA",
        "outputId": "f5d763ea-bb45-4e2a-a37f-1415a4395069"
      },
      "id": "ETVQ7LenFUUA",
      "execution_count": null,
      "outputs": [
        {
          "output_type": "execute_result",
          "data": {
            "text/plain": [
              "71.5"
            ]
          },
          "metadata": {},
          "execution_count": 87
        }
      ]
    },
    {
      "cell_type": "markdown",
      "id": "27479029-d528-465a-8051-343ced301287",
      "metadata": {
        "id": "27479029-d528-465a-8051-343ced301287"
      },
      "source": [
        "These are evaluated on the training dataset, however. To test the generalizability of the model, we must evaluate the models predictive power on the test dataset (these are images the model did not see during training):"
      ]
    },
    {
      "cell_type": "code",
      "execution_count": null,
      "id": "ca44c614-5980-4eca-b860-36bc8283675c",
      "metadata": {
        "id": "ca44c614-5980-4eca-b860-36bc8283675c",
        "colab": {
          "base_uri": "https://localhost:8080/",
          "height": 193
        },
        "outputId": "687a253a-cc30-4c30-cce6-afd636105742"
      },
      "outputs": [
        {
          "output_type": "error",
          "ename": "NameError",
          "evalue": "ignored",
          "traceback": [
            "\u001b[0;31m---------------------------------------------------------------------------\u001b[0m",
            "\u001b[0;31mNameError\u001b[0m                                 Traceback (most recent call last)",
            "\u001b[0;32m<ipython-input-20-b19b778149a5>\u001b[0m in \u001b[0;36m<cell line: 1>\u001b[0;34m()\u001b[0m\n\u001b[0;32m----> 1\u001b[0;31m \u001b[0mxs\u001b[0m\u001b[0;34m,\u001b[0m \u001b[0mys\u001b[0m \u001b[0;34m=\u001b[0m \u001b[0mtest_ds\u001b[0m\u001b[0;34m[\u001b[0m\u001b[0;34m:\u001b[0m\u001b[0;36m2000\u001b[0m\u001b[0;34m]\u001b[0m\u001b[0;34m\u001b[0m\u001b[0;34m\u001b[0m\u001b[0m\n\u001b[0m\u001b[1;32m      2\u001b[0m \u001b[0myhats\u001b[0m \u001b[0;34m=\u001b[0m \u001b[0mf\u001b[0m\u001b[0;34m(\u001b[0m\u001b[0mxs\u001b[0m\u001b[0;34m)\u001b[0m\u001b[0;34m.\u001b[0m\u001b[0margmax\u001b[0m\u001b[0;34m(\u001b[0m\u001b[0maxis\u001b[0m\u001b[0;34m=\u001b[0m\u001b[0;36m1\u001b[0m\u001b[0;34m)\u001b[0m\u001b[0;34m\u001b[0m\u001b[0;34m\u001b[0m\u001b[0m\n",
            "\u001b[0;31mNameError\u001b[0m: name 'test_ds' is not defined"
          ]
        }
      ],
      "source": [
        "xs, ys = test_ds[:2000]\n",
        "yhats = f(xs).argmax(axis=1)"
      ]
    },
    {
      "cell_type": "markdown",
      "id": "054b9c73-34de-4dd4-807d-2a7346adb408",
      "metadata": {
        "id": "054b9c73-34de-4dd4-807d-2a7346adb408"
      },
      "source": [
        "Plot 40 predictions:"
      ]
    },
    {
      "cell_type": "code",
      "execution_count": null,
      "id": "1d3dc45b-1ce0-451f-a817-8ed0d3be699a",
      "metadata": {
        "id": "1d3dc45b-1ce0-451f-a817-8ed0d3be699a",
        "outputId": "7e6a189b-e28d-4117-da62-ab1ffe112cd5",
        "colab": {
          "base_uri": "https://localhost:8080/",
          "height": 1000
        }
      },
      "outputs": [
        {
          "output_type": "error",
          "ename": "NameError",
          "evalue": "ignored",
          "traceback": [
            "\u001b[0;31m---------------------------------------------------------------------------\u001b[0m",
            "\u001b[0;31mNameError\u001b[0m                                 Traceback (most recent call last)",
            "\u001b[0;32m<ipython-input-19-2e1e23f1fb8d>\u001b[0m in \u001b[0;36m<cell line: 2>\u001b[0;34m()\u001b[0m\n\u001b[1;32m      2\u001b[0m \u001b[0;32mfor\u001b[0m \u001b[0mi\u001b[0m \u001b[0;32min\u001b[0m \u001b[0mrange\u001b[0m\u001b[0;34m(\u001b[0m\u001b[0;36m40\u001b[0m\u001b[0;34m)\u001b[0m\u001b[0;34m:\u001b[0m\u001b[0;34m\u001b[0m\u001b[0;34m\u001b[0m\u001b[0m\n\u001b[1;32m      3\u001b[0m     \u001b[0mplt\u001b[0m\u001b[0;34m.\u001b[0m\u001b[0msubplot\u001b[0m\u001b[0;34m(\u001b[0m\u001b[0;36m10\u001b[0m\u001b[0;34m,\u001b[0m\u001b[0;36m4\u001b[0m\u001b[0;34m,\u001b[0m\u001b[0mi\u001b[0m\u001b[0;34m+\u001b[0m\u001b[0;36m1\u001b[0m\u001b[0;34m)\u001b[0m\u001b[0;34m\u001b[0m\u001b[0;34m\u001b[0m\u001b[0m\n\u001b[0;32m----> 4\u001b[0;31m     \u001b[0mplt\u001b[0m\u001b[0;34m.\u001b[0m\u001b[0mimshow\u001b[0m\u001b[0;34m(\u001b[0m\u001b[0mxs\u001b[0m\u001b[0;34m[\u001b[0m\u001b[0mi\u001b[0m\u001b[0;34m]\u001b[0m\u001b[0;34m)\u001b[0m\u001b[0;34m\u001b[0m\u001b[0;34m\u001b[0m\u001b[0m\n\u001b[0m\u001b[1;32m      5\u001b[0m     \u001b[0mplt\u001b[0m\u001b[0;34m.\u001b[0m\u001b[0mtitle\u001b[0m\u001b[0;34m(\u001b[0m\u001b[0;34mf'Predicted Digit: {yhats[i]}'\u001b[0m\u001b[0;34m)\u001b[0m\u001b[0;34m\u001b[0m\u001b[0;34m\u001b[0m\u001b[0m\n\u001b[1;32m      6\u001b[0m \u001b[0mfig\u001b[0m\u001b[0;34m.\u001b[0m\u001b[0mtight_layout\u001b[0m\u001b[0;34m(\u001b[0m\u001b[0;34m)\u001b[0m\u001b[0;34m\u001b[0m\u001b[0;34m\u001b[0m\u001b[0m\n",
            "\u001b[0;31mNameError\u001b[0m: name 'xs' is not defined"
          ]
        },
        {
          "output_type": "display_data",
          "data": {
            "text/plain": [
              "<Figure size 1000x1500 with 40 Axes>"
            ],
            "image/png": "[encoded data removed]"
          },
          "metadata": {}
        }
      ],
      "source": [
        "fig, ax = plt.subplots(10,4,figsize=(10,15))\n",
        "for i in range(40):\n",
        "    plt.subplot(10,4,i+1)\n",
        "    plt.imshow(xs[i])\n",
        "    plt.title(f'Predicted Digit: {yhats[i]}')\n",
        "fig.tight_layout()\n",
        "plt.show()"
      ]
    },
    {
      "cell_type": "code",
      "execution_count": null,
      "id": "0fc2b907-6169-4ade-ba9f-3cb896ac0810",
      "metadata": {
        "id": "0fc2b907-6169-4ade-ba9f-3cb896ac0810"
      },
      "outputs": [],
      "source": []
    }
  ],
  "metadata": {
    "kernelspec": {
      "display_name": "Python 3 (ipykernel)",
      "language": "python",
      "name": "python3"
    },
    "language_info": {
      "codemirror_mode": {
        "name": "ipython",
        "version": 3
      },
      "file_extension": ".py",
      "mimetype": "text/x-python",
      "name": "python",
      "nbconvert_exporter": "python",
      "pygments_lexer": "ipython3",
      "version": "3.9.12"
    },
    "colab": {
      "provenance": []
    }
  },
  "nbformat": 4,
  "nbformat_minor": 5
}